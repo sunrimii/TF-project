{
 "cells": [
  {
   "cell_type": "code",
   "execution_count": 1,
   "metadata": {
    "colab": {},
    "colab_type": "code",
    "id": "NSV2HBr2fmpN"
   },
   "outputs": [],
   "source": [
    "import time\n",
    "\n",
    "import tensorflow as tf\n",
    "from matplotlib import pyplot as plt"
   ]
  },
  {
   "cell_type": "code",
   "execution_count": 2,
   "metadata": {
    "colab": {},
    "colab_type": "code",
    "id": "9o-im57w-jI2"
   },
   "outputs": [],
   "source": [
    "BATCH_SIZE = 256\n",
    "BUFFER_SIZE = 60000\n",
    "EPOCHS = 10\n",
    "NOISE_DIM = 100"
   ]
  },
  {
   "cell_type": "code",
   "execution_count": 3,
   "metadata": {
    "colab": {},
    "colab_type": "code",
    "id": "cGNP18OXg50R"
   },
   "outputs": [
    {
     "name": "stdout",
     "output_type": "stream",
     "text": [
      "Downloading data from https://storage.googleapis.com/tensorflow/tf-keras-datasets/mnist.npz\n",
      "11493376/11490434 [==============================] - 1s 0us/step\n"
     ]
    }
   ],
   "source": [
    "(train_images, train_labels), (_, _) = tf.keras.datasets.mnist.load_data()"
   ]
  },
  {
   "cell_type": "code",
   "execution_count": 4,
   "metadata": {
    "colab": {},
    "colab_type": "code",
    "id": "EooTmmS5hprX"
   },
   "outputs": [],
   "source": [
    "# 標準化 [0, 255] -> [-1, 1]\n",
    "train_images = (train_images - 127.5) / 127.5\n",
    "\n",
    "# 升維(60000, 28, 28) -> (60000, 28, 28, 1)\n",
    "train_images = tf.expand_dims(train_images, -1)"
   ]
  },
  {
   "cell_type": "code",
   "execution_count": 5,
   "metadata": {
    "colab": {},
    "colab_type": "code",
    "id": "ioXVE-tchpvN"
   },
   "outputs": [],
   "source": [
    "train_dataset = tf.data.Dataset.from_tensor_slices(train_images)\n",
    "train_dataset = train_dataset.shuffle(BUFFER_SIZE).batch(BATCH_SIZE).prefetch(-1)"
   ]
  },
  {
   "cell_type": "code",
   "execution_count": 6,
   "metadata": {
    "colab": {},
    "colab_type": "code",
    "id": "zBXh7BjxgJZH"
   },
   "outputs": [],
   "source": [
    "generator = tf.keras.models.Sequential([\n",
    "    tf.keras.layers.Dense(7*7*256, use_bias=False, input_shape=(NOISE_DIM, )),\n",
    "    tf.keras.layers.BatchNormalization(),\n",
    "    tf.keras.layers.LeakyReLU(),\n",
    "    tf.keras.layers.Reshape((7, 7, 256)),\n",
    "    # ouput shape: (None, 7, 7, 256)\n",
    "\n",
    "    tf.keras.layers.Conv2DTranspose(128, \n",
    "                                    5, \n",
    "                                    strides=1, \n",
    "                                    padding='same', \n",
    "                                    use_bias=False),\n",
    "    tf.keras.layers.BatchNormalization(),\n",
    "    tf.keras.layers.LeakyReLU(),\n",
    "    # ouput shape: (None, 7, 7, 128)\n",
    "\n",
    "\n",
    "    tf.keras.layers.Conv2DTranspose(64, \n",
    "                                    5, \n",
    "                                    strides=2, \n",
    "                                    padding='same', \n",
    "                                    use_bias=False),\n",
    "    tf.keras.layers.BatchNormalization(),\n",
    "    tf.keras.layers.LeakyReLU(),\n",
    "    # ouput shape: (None, 14, 14, 64)\n",
    "\n",
    "\n",
    "    tf.keras.layers.Conv2DTranspose(1, \n",
    "                                    5, \n",
    "                                    strides=2, \n",
    "                                    padding='same', \n",
    "                                    use_bias=False,\n",
    "                                    activation='tanh'),\n",
    "    # ouput shape: (None, 28, 28, 1)\n",
    "])"
   ]
  },
  {
   "cell_type": "code",
   "execution_count": 7,
   "metadata": {
    "colab": {
     "base_uri": "https://localhost:8080/",
     "height": 283
    },
    "colab_type": "code",
    "id": "DBuK5Bej8Ski",
    "outputId": "1b11cadc-50fa-4b1b-cc16-931c2b936fb7"
   },
   "outputs": [
    {
     "data": {
      "text/plain": [
       "<matplotlib.image.AxesImage at 0x1ce4d1733d0>"
      ]
     },
     "execution_count": 7,
     "metadata": {},
     "output_type": "execute_result"
    },
    {
     "data": {
      "image/png": "[encoded data removed]",
      "text/plain": [
       "<Figure size 432x288 with 1 Axes>"
      ]
     },
     "metadata": {
      "needs_background": "light"
     },
     "output_type": "display_data"
    }
   ],
   "source": [
    "noise = tf.random.normal((1, NOISE_DIM))\n",
    "fake_image = generator(noise, training=False) # 標準化層分訓練和評估模式\n",
    "plt.imshow(fake_image[0, :, :, 0], cmap='gray')"
   ]
  },
  {
   "cell_type": "code",
   "execution_count": 8,
   "metadata": {
    "colab": {},
    "colab_type": "code",
    "id": "RlAdnFP1Okm2"
   },
   "outputs": [],
   "source": [
    "discriminator = tf.keras.models.Sequential([\n",
    "    tf.keras.layers.Conv2D(64, \n",
    "                           5, \n",
    "                           strides=2,\n",
    "                           padding='same', \n",
    "                           input_shape=(28, 28, 1)),\n",
    "    tf.keras.layers.LeakyReLU(),\n",
    "    tf.keras.layers.Dropout(.3),\n",
    "\n",
    "    tf.keras.layers.Conv2D(128, \n",
    "                           5, \n",
    "                           strides=2,\n",
    "                           padding='same'),\n",
    "    tf.keras.layers.LeakyReLU(),\n",
    "    tf.keras.layers.Dropout(.3),\n",
    "\n",
    "    tf.keras.layers.Flatten(),\n",
    "    tf.keras.layers.Dense(1)\n",
    "])"
   ]
  },
  {
   "cell_type": "code",
   "execution_count": 9,
   "metadata": {
    "colab": {},
    "colab_type": "code",
    "id": "4HWT6DXD1nPw"
   },
   "outputs": [],
   "source": [
    "gen_optimizer = tf.keras.optimizers.Adam(1e-4)\n",
    "disc_optimizer = tf.keras.optimizers.Adam(1e-4)"
   ]
  },
  {
   "cell_type": "code",
   "execution_count": 10,
   "metadata": {
    "colab": {},
    "colab_type": "code",
    "id": "gJv0bw4gcrFe"
   },
   "outputs": [],
   "source": [
    "@tf.function\n",
    "def train_step(real_images):\n",
    "    noise = tf.random.normal((real_images.shape[0], NOISE_DIM))\n",
    "\n",
    "    with tf.GradientTape() as gen_tape, tf.GradientTape() as disc_tape:\n",
    "        fake_images = generator(noise, training=True)\n",
    "\n",
    "        real_predictions = discriminator(real_images, training=True)\n",
    "        fake_predictions = discriminator(fake_images, training=True)\n",
    "\n",
    "        gen_loss = tf.keras.losses.binary_crossentropy(\n",
    "            tf.ones_like(fake_predictions),\n",
    "            fake_predictions,\n",
    "            from_logits=True)\n",
    "        \n",
    "        real_loss = tf.keras.losses.binary_crossentropy(\n",
    "            tf.ones_like(real_predictions),\n",
    "            real_predictions,\n",
    "            from_logits=True)\n",
    "        fake_loss = tf.keras.losses.binary_crossentropy(\n",
    "            tf.zeros_like(fake_predictions),\n",
    "            fake_predictions,\n",
    "            from_logits=True)\n",
    "        disc_loss = real_loss + fake_loss\n",
    "\n",
    "    gen_gradient = gen_tape.gradient(gen_loss, generator.trainable_variables)\n",
    "    disc_gradient = disc_tape.gradient(disc_loss, discriminator.trainable_variables)\n",
    "\n",
    "    gen_optimizer.apply_gradients(zip(gen_gradient, generator.trainable_variables))\n",
    "    disc_optimizer.apply_gradients(zip(disc_gradient, discriminator.trainable_variables))"
   ]
  },
  {
   "cell_type": "code",
   "execution_count": 56,
   "metadata": {
    "colab": {
     "base_uri": "https://localhost:8080/",
     "height": 849
    },
    "colab_type": "code",
    "id": "ZnPbCqMyZBE0",
    "outputId": "6998248f-bfbf-428c-f6e6-23d2d47ed466"
   },
   "outputs": [
    {
     "name": "stdout",
     "output_type": "stream",
     "text": [
      "epoch: 20, duration: 215.68093490600586s\n",
      "epoch: 21, duration: 215.29595732688904s\n",
      "epoch: 22, duration: 218.59019303321838s\n",
      "epoch: 23, duration: 223.45881628990173s\n",
      "epoch: 24, duration: 268.5136168003082s\n",
      "epoch: 25, duration: 302.57591819763184s\n",
      "epoch: 26, duration: 308.94788002967834s\n",
      "epoch: 27, duration: 313.1107487678528s\n",
      "epoch: 28, duration: 310.8049144744873s\n",
      "epoch: 29, duration: 310.60145831108093s\n",
      "epoch: 30, duration: 314.31153750419617s\n",
      "epoch: 31, duration: 310.1337082386017s\n",
      "epoch: 32, duration: 313.00702691078186s\n",
      "epoch: 33, duration: 308.55492973327637s\n",
      "epoch: 34, duration: 313.3471157550812s\n",
      "epoch: 35, duration: 309.16430163383484s\n",
      "epoch: 36, duration: 312.2061667442322s\n",
      "epoch: 37, duration: 317.22075843811035s\n",
      "epoch: 38, duration: 314.53494000434875s\n",
      "epoch: 39, duration: 315.30986881256104s\n",
      "epoch: 40, duration: 313.0209879875183s\n",
      "epoch: 41, duration: 312.5233187675476s\n",
      "epoch: 42, duration: 314.98624324798584s\n",
      "epoch: 43, duration: 316.35394191741943s\n",
      "epoch: 44, duration: 318.79454922676086s\n",
      "epoch: 45, duration: 320.2626247406006s\n",
      "epoch: 46, duration: 315.0555486679077s\n",
      "epoch: 47, duration: 313.06088185310364s\n",
      "epoch: 48, duration: 321.4173879623413s\n",
      "epoch: 49, duration: 334.87371134757996s\n"
     ]
    }
   ],
   "source": [
    "for epoch in range(EPOCHS):\n",
    "    start = time.time()\n",
    "    for image_batch in train_dataset:\n",
    "        train_step(image_batch)\n",
    "    end = time.time()\n",
    "    duration = end - start\n",
    "    print(f\"epoch: {epoch}, duration: {duration}s\")"
   ]
  },
  {
   "cell_type": "code",
   "execution_count": 64,
   "metadata": {
    "colab": {
     "base_uri": "https://localhost:8080/",
     "height": 166
    },
    "colab_type": "code",
    "id": "pjtK3X_7IL9p",
    "outputId": "4b666614-89c9-47a1-f739-37f7c235651b"
   },
   "outputs": [
    {
     "data": {
      "image/png": "[encoded data removed]",
      "text/plain": [
       "<Figure size 432x288 with 16 Axes>"
      ]
     },
     "metadata": {
      "needs_background": "light"
     },
     "output_type": "display_data"
    }
   ],
   "source": [
    "noise = tf.random.normal((16, NOISE_DIM))\n",
    "fake_images = generator(noise)\n",
    "\n",
    "for i, fake_image in enumerate(fake_images):\n",
    "    plt.subplot(4, 4, i+1)\n",
    "    plt.axis(False)\n",
    "    fake_image = tf.squeeze(fake_image) # 從(28, 28, 1)壓縮維度到(28, 28)\n",
    "    plt.imshow(fake_image, cmap='gray')"
   ]
  }
 ],
 "metadata": {
  "accelerator": "TPU",
  "colab": {
   "name": "DCGAN.ipynb",
   "provenance": []
  },
  "kernelspec": {
   "display_name": "Python 3",
   "language": "python",
   "name": "python3"
  },
  "language_info": {
   "codemirror_mode": {
    "name": "ipython",
    "version": 3
   },
   "file_extension": ".py",
   "mimetype": "text/x-python",
   "name": "python",
   "nbconvert_exporter": "python",
   "pygments_lexer": "ipython3",
   "version": "3.8.1"
  }
 },
 "nbformat": 4,
 "nbformat_minor": 1
}
